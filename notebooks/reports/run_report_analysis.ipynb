{
 "cells": [
  {
   "cell_type": "markdown",
   "metadata": {},
   "source": [
    "# Init"
   ]
  },
  {
   "cell_type": "code",
   "execution_count": null,
   "metadata": {},
   "outputs": [],
   "source": [
    "%load_ext autoreload\n",
    "%autoreload 2"
   ]
  },
  {
   "cell_type": "code",
   "execution_count": 25,
   "metadata": {},
   "outputs": [],
   "source": [
    "import pandas as pd\n",
    "import os\n",
    "from financial_report_analyzer.database_conntector import DatabaseConnector\n",
    "from financial_report_analyzer.scraping import SECScraper\n",
    "from financial_report_analyzer.model import ScoringModel\n",
    "from financial_report_analyzer.content_extractor import TextExtractor\n",
    "from tqdm import tqdm\n",
    "from datetime import datetime"
   ]
  },
  {
   "cell_type": "markdown",
   "metadata": {},
   "source": [
    "# 10-K filings SEC"
   ]
  },
  {
   "cell_type": "code",
   "execution_count": 26,
   "metadata": {},
   "outputs": [],
   "source": [
    "DB_PATH = #CHECK in database_connector.py"
   ]
  },
  {
   "cell_type": "code",
   "execution_count": 27,
   "metadata": {},
   "outputs": [],
   "source": [
    "connector = DatabaseConnector(DB_PATH)\n",
    "\n",
    "filings = connector.fetch_data(\"filings\")\n",
    "scores = connector.fetch_data(\"scores\")"
   ]
  },
  {
   "cell_type": "code",
   "execution_count": 28,
   "metadata": {},
   "outputs": [
    {
     "data": {
      "text/html": [
       "<div>\n",
       "<style scoped>\n",
       "    .dataframe tbody tr th:only-of-type {\n",
       "        vertical-align: middle;\n",
       "    }\n",
       "\n",
       "    .dataframe tbody tr th {\n",
       "        vertical-align: top;\n",
       "    }\n",
       "\n",
       "    .dataframe thead th {\n",
       "        text-align: right;\n",
       "    }\n",
       "</style>\n",
       "<table border=\"1\" class=\"dataframe\">\n",
       "  <thead>\n",
       "    <tr style=\"text-align: right;\">\n",
       "      <th></th>\n",
       "      <th>ticker</th>\n",
       "      <th>year</th>\n",
       "      <th>url</th>\n",
       "      <th>url_type</th>\n",
       "      <th>ticker_years</th>\n",
       "    </tr>\n",
       "  </thead>\n",
       "  <tbody>\n",
       "    <tr>\n",
       "      <th>0</th>\n",
       "      <td>21C</td>\n",
       "      <td>2009</td>\n",
       "      <td>https://www.sec.gov/Archives/edgar/data/130816...</td>\n",
       "      <td>htm</td>\n",
       "      <td>21C_2009</td>\n",
       "    </tr>\n",
       "    <tr>\n",
       "      <th>1</th>\n",
       "      <td>21C</td>\n",
       "      <td>2010</td>\n",
       "      <td>https://www.sec.gov/Archives/edgar/data/130816...</td>\n",
       "      <td>htm</td>\n",
       "      <td>21C_2010</td>\n",
       "    </tr>\n",
       "    <tr>\n",
       "      <th>2</th>\n",
       "      <td>21C</td>\n",
       "      <td>2011</td>\n",
       "      <td>https://www.sec.gov/Archives/edgar/data/130816...</td>\n",
       "      <td>htm</td>\n",
       "      <td>21C_2011</td>\n",
       "    </tr>\n",
       "    <tr>\n",
       "      <th>3</th>\n",
       "      <td>21C</td>\n",
       "      <td>2012</td>\n",
       "      <td>https://www.sec.gov/Archives/edgar/data/130816...</td>\n",
       "      <td>htm</td>\n",
       "      <td>21C_2012</td>\n",
       "    </tr>\n",
       "    <tr>\n",
       "      <th>4</th>\n",
       "      <td>21C</td>\n",
       "      <td>2013</td>\n",
       "      <td>https://www.sec.gov/Archives/edgar/data/130816...</td>\n",
       "      <td>htm</td>\n",
       "      <td>21C_2013</td>\n",
       "    </tr>\n",
       "    <tr>\n",
       "      <th>...</th>\n",
       "      <td>...</td>\n",
       "      <td>...</td>\n",
       "      <td>...</td>\n",
       "      <td>...</td>\n",
       "      <td>...</td>\n",
       "    </tr>\n",
       "    <tr>\n",
       "      <th>7681</th>\n",
       "      <td>ZTS</td>\n",
       "      <td>2019</td>\n",
       "      <td>https://www.sec.gov/Archives/edgar/data/155528...</td>\n",
       "      <td>htm</td>\n",
       "      <td>ZTS_2019</td>\n",
       "    </tr>\n",
       "    <tr>\n",
       "      <th>7682</th>\n",
       "      <td>ZTS</td>\n",
       "      <td>2020</td>\n",
       "      <td>https://www.sec.gov/Archives/edgar/data/155528...</td>\n",
       "      <td>htm</td>\n",
       "      <td>ZTS_2020</td>\n",
       "    </tr>\n",
       "    <tr>\n",
       "      <th>7683</th>\n",
       "      <td>ZTS</td>\n",
       "      <td>2021</td>\n",
       "      <td>https://www.sec.gov/Archives/edgar/data/155528...</td>\n",
       "      <td>htm</td>\n",
       "      <td>ZTS_2021</td>\n",
       "    </tr>\n",
       "    <tr>\n",
       "      <th>7684</th>\n",
       "      <td>ZTS</td>\n",
       "      <td>2022</td>\n",
       "      <td>https://www.sec.gov/Archives/edgar/data/155528...</td>\n",
       "      <td>htm</td>\n",
       "      <td>ZTS_2022</td>\n",
       "    </tr>\n",
       "    <tr>\n",
       "      <th>7685</th>\n",
       "      <td>ZTS</td>\n",
       "      <td>2023</td>\n",
       "      <td>https://www.sec.gov/Archives/edgar/data/155528...</td>\n",
       "      <td>htm</td>\n",
       "      <td>ZTS_2023</td>\n",
       "    </tr>\n",
       "  </tbody>\n",
       "</table>\n",
       "<p>7686 rows × 5 columns</p>\n",
       "</div>"
      ],
      "text/plain": [
       "     ticker  year                                                url url_type  \\\n",
       "0       21C  2009  https://www.sec.gov/Archives/edgar/data/130816...      htm   \n",
       "1       21C  2010  https://www.sec.gov/Archives/edgar/data/130816...      htm   \n",
       "2       21C  2011  https://www.sec.gov/Archives/edgar/data/130816...      htm   \n",
       "3       21C  2012  https://www.sec.gov/Archives/edgar/data/130816...      htm   \n",
       "4       21C  2013  https://www.sec.gov/Archives/edgar/data/130816...      htm   \n",
       "...     ...   ...                                                ...      ...   \n",
       "7681    ZTS  2019  https://www.sec.gov/Archives/edgar/data/155528...      htm   \n",
       "7682    ZTS  2020  https://www.sec.gov/Archives/edgar/data/155528...      htm   \n",
       "7683    ZTS  2021  https://www.sec.gov/Archives/edgar/data/155528...      htm   \n",
       "7684    ZTS  2022  https://www.sec.gov/Archives/edgar/data/155528...      htm   \n",
       "7685    ZTS  2023  https://www.sec.gov/Archives/edgar/data/155528...      htm   \n",
       "\n",
       "     ticker_years  \n",
       "0        21C_2009  \n",
       "1        21C_2010  \n",
       "2        21C_2011  \n",
       "3        21C_2012  \n",
       "4        21C_2013  \n",
       "...           ...  \n",
       "7681     ZTS_2019  \n",
       "7682     ZTS_2020  \n",
       "7683     ZTS_2021  \n",
       "7684     ZTS_2022  \n",
       "7685     ZTS_2023  \n",
       "\n",
       "[7686 rows x 5 columns]"
      ]
     },
     "execution_count": 28,
     "metadata": {},
     "output_type": "execute_result"
    }
   ],
   "source": [
    "filings = filings.drop_duplicates(subset=[\"year\", \"ticker\"], keep=\"first\")\n",
    "filings = filings.sort_values(by=[\"ticker\", \"year\"]).reset_index(drop=True)\n",
    "filings"
   ]
  },
  {
   "cell_type": "code",
   "execution_count": 29,
   "metadata": {},
   "outputs": [
    {
     "data": {
      "text/html": [
       "<div>\n",
       "<style scoped>\n",
       "    .dataframe tbody tr th:only-of-type {\n",
       "        vertical-align: middle;\n",
       "    }\n",
       "\n",
       "    .dataframe tbody tr th {\n",
       "        vertical-align: top;\n",
       "    }\n",
       "\n",
       "    .dataframe thead th {\n",
       "        text-align: right;\n",
       "    }\n",
       "</style>\n",
       "<table border=\"1\" class=\"dataframe\">\n",
       "  <thead>\n",
       "    <tr style=\"text-align: right;\">\n",
       "      <th></th>\n",
       "      <th>environmental</th>\n",
       "      <th>social</th>\n",
       "      <th>governance</th>\n",
       "      <th>ticker</th>\n",
       "      <th>year</th>\n",
       "      <th>analysis_timestamp</th>\n",
       "      <th>text_hash</th>\n",
       "      <th>ticker_years</th>\n",
       "    </tr>\n",
       "  </thead>\n",
       "  <tbody>\n",
       "    <tr>\n",
       "      <th>0</th>\n",
       "      <td>0.002580</td>\n",
       "      <td>0.002212</td>\n",
       "      <td>0.016587</td>\n",
       "      <td>21C</td>\n",
       "      <td>2009</td>\n",
       "      <td>2024-05-19 10:05:10.924960</td>\n",
       "      <td>c6c1501770298e9f26d9670997bb5456040a41a539ec04...</td>\n",
       "      <td>21C_2009</td>\n",
       "    </tr>\n",
       "    <tr>\n",
       "      <th>1</th>\n",
       "      <td>0.001159</td>\n",
       "      <td>0.001159</td>\n",
       "      <td>0.017002</td>\n",
       "      <td>21C</td>\n",
       "      <td>2010</td>\n",
       "      <td>2024-05-19 10:08:15.166698</td>\n",
       "      <td>83cc3e74595947aa42893057c29f4637ad13191d586bf4...</td>\n",
       "      <td>21C_2010</td>\n",
       "    </tr>\n",
       "    <tr>\n",
       "      <th>2</th>\n",
       "      <td>0.001436</td>\n",
       "      <td>0.000718</td>\n",
       "      <td>0.020108</td>\n",
       "      <td>21C</td>\n",
       "      <td>2011</td>\n",
       "      <td>2024-05-19 10:11:32.237642</td>\n",
       "      <td>eac93509a71c28ff2754c0b3d4be3e3c26a37edf393ad7...</td>\n",
       "      <td>21C_2011</td>\n",
       "    </tr>\n",
       "    <tr>\n",
       "      <th>3</th>\n",
       "      <td>0.001402</td>\n",
       "      <td>0.001752</td>\n",
       "      <td>0.018570</td>\n",
       "      <td>21C</td>\n",
       "      <td>2012</td>\n",
       "      <td>2024-05-19 10:14:55.024970</td>\n",
       "      <td>a799e094f6d514cc38b7e762db105be0729acaa5ab67f8...</td>\n",
       "      <td>21C_2012</td>\n",
       "    </tr>\n",
       "    <tr>\n",
       "      <th>4</th>\n",
       "      <td>0.001821</td>\n",
       "      <td>0.000729</td>\n",
       "      <td>0.018215</td>\n",
       "      <td>21C</td>\n",
       "      <td>2013</td>\n",
       "      <td>2024-05-19 10:18:13.914954</td>\n",
       "      <td>e7700bfe09398493f78e52edf1ddbc6d6810b876091191...</td>\n",
       "      <td>21C_2013</td>\n",
       "    </tr>\n",
       "    <tr>\n",
       "      <th>...</th>\n",
       "      <td>...</td>\n",
       "      <td>...</td>\n",
       "      <td>...</td>\n",
       "      <td>...</td>\n",
       "      <td>...</td>\n",
       "      <td>...</td>\n",
       "      <td>...</td>\n",
       "      <td>...</td>\n",
       "    </tr>\n",
       "    <tr>\n",
       "      <th>7656</th>\n",
       "      <td>0.035971</td>\n",
       "      <td>0.010072</td>\n",
       "      <td>0.018225</td>\n",
       "      <td>ZTS</td>\n",
       "      <td>2019</td>\n",
       "      <td>2024-04-08 20:51:57.585591</td>\n",
       "      <td>92040795118f658b219746f8661ff2c5a1fbc74316b9fc...</td>\n",
       "      <td>ZTS_2019</td>\n",
       "    </tr>\n",
       "    <tr>\n",
       "      <th>7657</th>\n",
       "      <td>0.037718</td>\n",
       "      <td>0.010155</td>\n",
       "      <td>0.017892</td>\n",
       "      <td>ZTS</td>\n",
       "      <td>2020</td>\n",
       "      <td>2024-04-08 21:06:30.153159</td>\n",
       "      <td>fa0eff1a067f98d73f5dffde21f7b65419e9999fe5361a...</td>\n",
       "      <td>ZTS_2020</td>\n",
       "    </tr>\n",
       "    <tr>\n",
       "      <th>7658</th>\n",
       "      <td>0.043478</td>\n",
       "      <td>0.023411</td>\n",
       "      <td>0.016722</td>\n",
       "      <td>ZTS</td>\n",
       "      <td>2021</td>\n",
       "      <td>2024-04-08 21:14:41.421702</td>\n",
       "      <td>d9139f2832f60f7f311290cc9d08df46c28e33580b2314...</td>\n",
       "      <td>ZTS_2021</td>\n",
       "    </tr>\n",
       "    <tr>\n",
       "      <th>7659</th>\n",
       "      <td>0.053088</td>\n",
       "      <td>0.026034</td>\n",
       "      <td>0.018377</td>\n",
       "      <td>ZTS</td>\n",
       "      <td>2022</td>\n",
       "      <td>2024-04-08 21:22:27.348887</td>\n",
       "      <td>a7b98d7c14cba964cd871ad51625c7ff91385540a9eada...</td>\n",
       "      <td>ZTS_2022</td>\n",
       "    </tr>\n",
       "    <tr>\n",
       "      <th>7660</th>\n",
       "      <td>0.053248</td>\n",
       "      <td>0.028754</td>\n",
       "      <td>0.021299</td>\n",
       "      <td>ZTS</td>\n",
       "      <td>2023</td>\n",
       "      <td>2024-04-08 21:29:49.357877</td>\n",
       "      <td>c5979d0053eb1cc20f701849a7b7ebd4b5484056951e84...</td>\n",
       "      <td>ZTS_2023</td>\n",
       "    </tr>\n",
       "  </tbody>\n",
       "</table>\n",
       "<p>7661 rows × 8 columns</p>\n",
       "</div>"
      ],
      "text/plain": [
       "      environmental    social  governance ticker  year  \\\n",
       "0          0.002580  0.002212    0.016587    21C  2009   \n",
       "1          0.001159  0.001159    0.017002    21C  2010   \n",
       "2          0.001436  0.000718    0.020108    21C  2011   \n",
       "3          0.001402  0.001752    0.018570    21C  2012   \n",
       "4          0.001821  0.000729    0.018215    21C  2013   \n",
       "...             ...       ...         ...    ...   ...   \n",
       "7656       0.035971  0.010072    0.018225    ZTS  2019   \n",
       "7657       0.037718  0.010155    0.017892    ZTS  2020   \n",
       "7658       0.043478  0.023411    0.016722    ZTS  2021   \n",
       "7659       0.053088  0.026034    0.018377    ZTS  2022   \n",
       "7660       0.053248  0.028754    0.021299    ZTS  2023   \n",
       "\n",
       "             analysis_timestamp  \\\n",
       "0    2024-05-19 10:05:10.924960   \n",
       "1    2024-05-19 10:08:15.166698   \n",
       "2    2024-05-19 10:11:32.237642   \n",
       "3    2024-05-19 10:14:55.024970   \n",
       "4    2024-05-19 10:18:13.914954   \n",
       "...                         ...   \n",
       "7656 2024-04-08 20:51:57.585591   \n",
       "7657 2024-04-08 21:06:30.153159   \n",
       "7658 2024-04-08 21:14:41.421702   \n",
       "7659 2024-04-08 21:22:27.348887   \n",
       "7660 2024-04-08 21:29:49.357877   \n",
       "\n",
       "                                              text_hash ticker_years  \n",
       "0     c6c1501770298e9f26d9670997bb5456040a41a539ec04...     21C_2009  \n",
       "1     83cc3e74595947aa42893057c29f4637ad13191d586bf4...     21C_2010  \n",
       "2     eac93509a71c28ff2754c0b3d4be3e3c26a37edf393ad7...     21C_2011  \n",
       "3     a799e094f6d514cc38b7e762db105be0729acaa5ab67f8...     21C_2012  \n",
       "4     e7700bfe09398493f78e52edf1ddbc6d6810b876091191...     21C_2013  \n",
       "...                                                 ...          ...  \n",
       "7656  92040795118f658b219746f8661ff2c5a1fbc74316b9fc...     ZTS_2019  \n",
       "7657  fa0eff1a067f98d73f5dffde21f7b65419e9999fe5361a...     ZTS_2020  \n",
       "7658  d9139f2832f60f7f311290cc9d08df46c28e33580b2314...     ZTS_2021  \n",
       "7659  a7b98d7c14cba964cd871ad51625c7ff91385540a9eada...     ZTS_2022  \n",
       "7660  c5979d0053eb1cc20f701849a7b7ebd4b5484056951e84...     ZTS_2023  \n",
       "\n",
       "[7661 rows x 8 columns]"
      ]
     },
     "execution_count": 29,
     "metadata": {},
     "output_type": "execute_result"
    }
   ],
   "source": [
    "scores = scores.drop_duplicates(subset=[\"year\", \"ticker\"], keep=\"first\")\n",
    "scores = scores.sort_values(by=[\"ticker\", \"year\"]).reset_index(drop=True)\n",
    "scores"
   ]
  },
  {
   "cell_type": "code",
   "execution_count": null,
   "metadata": {},
   "outputs": [],
   "source": [
    "scraper = SECScraper()\n",
    "model = ScoringModel()"
   ]
  },
  {
   "cell_type": "code",
   "execution_count": null,
   "metadata": {},
   "outputs": [],
   "source": [
    "limit = False"
   ]
  },
  {
   "cell_type": "markdown",
   "metadata": {},
   "source": [
    "## Select Tickers"
   ]
  },
  {
   "cell_type": "code",
   "execution_count": null,
   "metadata": {},
   "outputs": [],
   "source": [
    "filings[\"ticker_years\"] = filings[\"ticker\"] + \"_\" + filings[\"year\"]\n",
    "scores[\"ticker_years\"] = scores[\"ticker\"] + \"_\" + scores[\"year\"]\n",
    "\n",
    "not_analyzed = filings[~filings[\"ticker_years\"].isin(scores[\"ticker_years\"].tolist())]\n",
    "not_analyzed_tickers = list(not_analyzed[\"ticker\"].unique())"
   ]
  },
  {
   "cell_type": "code",
   "execution_count": null,
   "metadata": {},
   "outputs": [],
   "source": [
    "tickers = not_analyzed_tickers[:1]\n",
    "tickers = [\"MCD\"]"
   ]
  },
  {
   "cell_type": "markdown",
   "metadata": {},
   "source": [
    "## Run Analysis"
   ]
  },
  {
   "cell_type": "code",
   "execution_count": null,
   "metadata": {},
   "outputs": [],
   "source": [
    "session_scores = []\n",
    "\n",
    "for ticker in tickers:\n",
    "\n",
    "    for _, filing in tqdm(\n",
    "        filings.query(\"ticker==@ticker\").iterrows(), ncols=60, desc=ticker\n",
    "    ):\n",
    "        filing_url = filing[\"url\"]\n",
    "        filing_url_type = filing[\"url_type\"]\n",
    "        year = filing[\"year\"]\n",
    "\n",
    "        report = scraper.fetch_report(filing_url)\n",
    "        extractor = TextExtractor(report)\n",
    "        sentences = extractor.get_sentences(url_type=filing_url_type)\n",
    "        text_hash = extractor.create_hash(sentences)\n",
    "\n",
    "        sample_sentences = sentences\n",
    "\n",
    "        if limit:\n",
    "            sample_sentences = sentences[:50]\n",
    "\n",
    "        report_scores = model.calculate_report_scores(sample_sentences)\n",
    "        report_scores.update(\n",
    "            {\n",
    "                \"ticker\": ticker,\n",
    "                \"year\": year,\n",
    "                \"analysis_timestamp\": datetime.now(),\n",
    "                \"text_hash\": text_hash,\n",
    "            }\n",
    "        )\n",
    "        session_scores.append(report_scores)"
   ]
  },
  {
   "cell_type": "code",
   "execution_count": null,
   "metadata": {},
   "outputs": [],
   "source": [
    "session_output = pd.DataFrame(session_scores)\n",
    "prev_scores = connector.fetch_data(\"scores\").drop_duplicates(subset=[\"year\", \"ticker\"], keep=\"first\")"
   ]
  },
  {
   "cell_type": "code",
   "execution_count": null,
   "metadata": {},
   "outputs": [],
   "source": [
    "new_scores = pd.concat([prev_scores, session_output])"
   ]
  },
  {
   "cell_type": "code",
   "execution_count": null,
   "metadata": {},
   "outputs": [],
   "source": [
    "new_scores = new_scores.sort_values(by=[\"ticker\", \"year\"]).reset_index(drop=True)\n",
    "new_scores"
   ]
  },
  {
   "cell_type": "markdown",
   "metadata": {},
   "source": [
    "## Store Output"
   ]
  },
  {
   "cell_type": "code",
   "execution_count": null,
   "metadata": {},
   "outputs": [],
   "source": [
    "connector.store_data(new_scores, \"scores\")"
   ]
  },
  {
   "cell_type": "markdown",
   "metadata": {},
   "source": [
    "# Annual Reports Dax Companies"
   ]
  },
  {
   "cell_type": "code",
   "execution_count": null,
   "metadata": {},
   "outputs": [],
   "source": [
    "# Your path\n",
    "DAX_REPORTS_DIR = # Your path"
   ]
  },
  {
   "cell_type": "code",
   "execution_count": null,
   "metadata": {},
   "outputs": [],
   "source": [
    "filings_data = []\n",
    "for root, dirs, files in os.walk(DAX_REPORTS_DIR):\n",
    "    for file in files:\n",
    "        if file.endswith(\".pdf\"):\n",
    "            isin, year = file.replace(\".pdf\", \"\").split(\"_\")\n",
    "            filepath = os.path.join(root, file)\n",
    "            filings_data.append({\"isin\": isin, \"year\": int(year), \"isin_years\": f\"{isin}_{year}\", \"path\": filepath})\n",
    "\n",
    "filings_dax = pd.DataFrame(filings_data)\n",
    "filings_dax"
   ]
  },
  {
   "cell_type": "code",
   "execution_count": null,
   "metadata": {},
   "outputs": [],
   "source": [
    "# Your path\n",
    "scores_dax = pd.read_csv()\n",
    "scores_dax"
   ]
  },
  {
   "cell_type": "code",
   "execution_count": null,
   "metadata": {},
   "outputs": [],
   "source": [
    "scraper = SECScraper()\n",
    "model = ScoringModel()"
   ]
  },
  {
   "cell_type": "code",
   "execution_count": null,
   "metadata": {},
   "outputs": [],
   "source": [
    "limit = False"
   ]
  },
  {
   "cell_type": "markdown",
   "metadata": {},
   "source": [
    "## Select Tickers"
   ]
  },
  {
   "cell_type": "code",
   "execution_count": null,
   "metadata": {},
   "outputs": [],
   "source": [
    "not_analyzed = filings_dax[~filings_dax[\"isin_years\"].isin(scores_dax[\"isin_years\"].tolist())]\n",
    "not_analyzed_tickers = list(not_analyzed[\"isin\"].unique())"
   ]
  },
  {
   "cell_type": "code",
   "execution_count": null,
   "metadata": {},
   "outputs": [],
   "source": [
    "isins = not_analyzed_tickers[:1]\n",
    "isin"
   ]
  },
  {
   "cell_type": "markdown",
   "metadata": {},
   "source": [
    "## Run Analysis"
   ]
  },
  {
   "cell_type": "code",
   "execution_count": null,
   "metadata": {},
   "outputs": [],
   "source": [
    "session_scores = []\n",
    "\n",
    "for _, row in tqdm(\n",
    "        filings_dax.query(\"isin==@isin\").iterrows(), ncols=60, desc=ticker\n",
    "    ):\n",
    "    path = row[\"path\"]\n",
    "    isin = row[\"isin\"]\n",
    "    year = row[\"year\"]\n",
    "    isin_years = row[\"isin_years\"]\n",
    "\n",
    "    extractor = TextExtractor(path)\n",
    "    sentences = extractor.get_scentences_dax()\n",
    "    text_hash = extractor.create_hash(sentences)\n",
    "\n",
    "    sample_sentences = sentences\n",
    "\n",
    "    if limit:\n",
    "        sample_sentences = sentences[:50]\n",
    "\n",
    "    report_scores = model.calculate_report_scores(sample_sentences)\n",
    "    report_scores.update(\n",
    "        {\n",
    "            \"isin\": isin,\n",
    "            \"year\": year,\n",
    "            \"isin_years\": isin_years\n",
    "            \"analysis_timestamp\": datetime.now(),\n",
    "            \"text_hash\": text_hash,\n",
    "        }\n",
    "    )\n",
    "    session_scores.append(report_scores)"
   ]
  },
  {
   "cell_type": "code",
   "execution_count": null,
   "metadata": {},
   "outputs": [],
   "source": [
    "session_output = pd.DataFrame(session_scores)\n",
    "prev_dax_scores = pd.read_csv()"
   ]
  },
  {
   "cell_type": "code",
   "execution_count": null,
   "metadata": {},
   "outputs": [],
   "source": [
    "new_dax_scores = pd.concat([prev_dax_scores, session_output])"
   ]
  },
  {
   "cell_type": "code",
   "execution_count": null,
   "metadata": {},
   "outputs": [],
   "source": [
    "new_dax_scores = new_dax_scores.sort_values(by=[\"ticker\", \"year\"]).reset_index(drop=True)\n",
    "new_dax_scores"
   ]
  },
  {
   "cell_type": "markdown",
   "metadata": {},
   "source": [
    "## Store Output"
   ]
  },
  {
   "cell_type": "code",
   "execution_count": null,
   "metadata": {},
   "outputs": [],
   "source": [
    "#Your path\n",
    "new_dax_scores.to_csv()"
   ]
  }
 ],
 "metadata": {
  "kernelspec": {
   "display_name": "financial_report_analyzer",
   "language": "python",
   "name": "financial_report_analyzer"
  },
  "language_info": {
   "codemirror_mode": {
    "name": "ipython",
    "version": 3
   },
   "file_extension": ".py",
   "mimetype": "text/x-python",
   "name": "python",
   "nbconvert_exporter": "python",
   "pygments_lexer": "ipython3",
   "version": "3.11.1"
  }
 },
 "nbformat": 4,
 "nbformat_minor": 2
}
