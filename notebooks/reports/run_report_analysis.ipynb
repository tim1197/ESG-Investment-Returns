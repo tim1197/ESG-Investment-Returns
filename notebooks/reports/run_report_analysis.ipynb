{
 "cells": [
  {
   "cell_type": "markdown",
   "metadata": {},
   "source": [
    "# Init"
   ]
  },
  {
   "cell_type": "code",
   "execution_count": null,
   "metadata": {},
   "outputs": [],
   "source": [
    "%load_ext autoreload\n",
    "%autoreload 2"
   ]
  },
  {
   "cell_type": "code",
   "execution_count": null,
   "metadata": {},
   "outputs": [],
   "source": [
    "import pandas as pd\n",
    "import os\n",
    "from financial_report_analyzer.database_conntector import DatabaseConnector\n",
    "from financial_report_analyzer.scraping import SECScraper\n",
    "from financial_report_analyzer.model import ScoringModel\n",
    "from financial_report_analyzer.content_extractor import TextExtractor\n",
    "from tqdm import tqdm\n",
    "from datetime import datetime"
   ]
  },
  {
   "cell_type": "markdown",
   "metadata": {},
   "source": [
    "# 10-K filings SEC"
   ]
  },
  {
   "cell_type": "code",
   "execution_count": null,
   "metadata": {},
   "outputs": [],
   "source": [
    "DB_PATH = #YOUR_PATH"
   ]
  },
  {
   "cell_type": "code",
   "execution_count": null,
   "metadata": {},
   "outputs": [],
   "source": [
    "connector = DatabaseConnector(DB_PATH)\n",
    "\n",
    "filings = connector.fetch_data(\"filings\")\n",
    "scores = connector.fetch_data(\"scores\")"
   ]
  },
  {
   "cell_type": "code",
   "execution_count": null,
   "metadata": {},
   "outputs": [],
   "source": [
    "filings = filings.drop_duplicates(subset=[\"year\", \"ticker\"], keep=\"first\")\n",
    "filings = filings.sort_values(by=[\"ticker\", \"year\"]).reset_index(drop=True)"
   ]
  },
  {
   "cell_type": "code",
   "execution_count": null,
   "metadata": {},
   "outputs": [],
   "source": [
    "scores = scores.drop_duplicates(subset=[\"year\", \"ticker\"], keep=\"first\")\n",
    "scores = scores.sort_values(by=[\"ticker\", \"year\"]).reset_index(drop=True)"
   ]
  },
  {
   "cell_type": "code",
   "execution_count": null,
   "metadata": {},
   "outputs": [],
   "source": [
    "scraper = SECScraper()\n",
    "model = ScoringModel()"
   ]
  },
  {
   "cell_type": "code",
   "execution_count": null,
   "metadata": {},
   "outputs": [],
   "source": [
    "limit = False"
   ]
  },
  {
   "cell_type": "markdown",
   "metadata": {},
   "source": [
    "## Select Tickers"
   ]
  },
  {
   "cell_type": "code",
   "execution_count": null,
   "metadata": {},
   "outputs": [],
   "source": [
    "filings[\"ticker_years\"] = filings[\"ticker\"] + \"_\" + filings[\"year\"]\n",
    "scores[\"ticker_years\"] = scores[\"ticker\"] + \"_\" + scores[\"year\"]\n",
    "\n",
    "not_analyzed = filings[~filings[\"ticker_years\"].isin(scores[\"ticker_years\"].tolist())]\n",
    "not_analyzed_tickers = list(not_analyzed[\"ticker\"].unique())"
   ]
  },
  {
   "cell_type": "code",
   "execution_count": null,
   "metadata": {},
   "outputs": [],
   "source": [
    "tickers = not_analyzed_tickers[:1]\n",
    "tickers"
   ]
  },
  {
   "cell_type": "markdown",
   "metadata": {},
   "source": [
    "## Run Analysis"
   ]
  },
  {
   "cell_type": "code",
   "execution_count": null,
   "metadata": {},
   "outputs": [],
   "source": [
    "session_scores = []\n",
    "\n",
    "for ticker in tickers:\n",
    "\n",
    "    for _, filing in tqdm(\n",
    "        filings.query(\"ticker==@ticker\").iterrows(), ncols=60, desc=ticker\n",
    "    ):\n",
    "        filing_url = filing[\"url\"]\n",
    "        filing_url_type = filing[\"url_type\"]\n",
    "        year = filing[\"year\"]\n",
    "\n",
    "        report = scraper.fetch_report(filing_url)\n",
    "        extractor = TextExtractor(report)\n",
    "        sentences = extractor.get_sentences(url_type=filing_url_type)\n",
    "        text_hash = extractor.create_hash(sentences)\n",
    "\n",
    "        sample_sentences = sentences\n",
    "\n",
    "        if limit:\n",
    "            sample_sentences = sentences[:50]\n",
    "\n",
    "        report_scores = model.calculate_report_scores(sample_sentences)\n",
    "        report_scores.update(\n",
    "            {\n",
    "                \"ticker\": ticker,\n",
    "                \"year\": year,\n",
    "                \"analysis_timestamp\": datetime.now(),\n",
    "                \"text_hash\": text_hash,\n",
    "            }\n",
    "        )\n",
    "        session_scores.append(report_scores)"
   ]
  },
  {
   "cell_type": "code",
   "execution_count": null,
   "metadata": {},
   "outputs": [],
   "source": [
    "session_output = pd.DataFrame(session_scores)\n",
    "prev_scores = connector.fetch_data(\"scores\").drop_duplicates(subset=[\"year\", \"ticker\"], keep=\"first\")"
   ]
  },
  {
   "cell_type": "code",
   "execution_count": null,
   "metadata": {},
   "outputs": [],
   "source": [
    "new_scores = pd.concat([prev_scores, session_output])"
   ]
  },
  {
   "cell_type": "code",
   "execution_count": null,
   "metadata": {},
   "outputs": [],
   "source": [
    "new_scores = new_scores.sort_values(by=[\"ticker\", \"year\"]).reset_index(drop=True)\n",
    "new_scores"
   ]
  },
  {
   "cell_type": "markdown",
   "metadata": {},
   "source": [
    "## Store Output"
   ]
  },
  {
   "cell_type": "code",
   "execution_count": null,
   "metadata": {},
   "outputs": [],
   "source": [
    "connector.store_data(new_scores, \"scores\")"
   ]
  },
  {
   "cell_type": "markdown",
   "metadata": {},
   "source": [
    "# Annual Reports Dax Companies"
   ]
  },
  {
   "cell_type": "code",
   "execution_count": null,
   "metadata": {},
   "outputs": [],
   "source": [
    "# Your path\n",
    "DAX_REPORTS_DIR = # Your path"
   ]
  },
  {
   "cell_type": "code",
   "execution_count": null,
   "metadata": {},
   "outputs": [],
   "source": [
    "filings_data = []\n",
    "for root, dirs, files in os.walk(DAX_REPORTS_DIR):\n",
    "    for file in files:\n",
    "        if file.endswith(\".pdf\"):\n",
    "            isin, year = file.replace(\".pdf\", \"\").split(\"_\")\n",
    "            filepath = os.path.join(root, file)\n",
    "            filings_data.append({\"isin\": isin, \"year\": int(year), \"isin_years\": f\"{isin}_{year}\", \"path\": filepath})\n",
    "\n",
    "filings_dax = pd.DataFrame(filings_data)\n",
    "filings_dax"
   ]
  },
  {
   "cell_type": "code",
   "execution_count": null,
   "metadata": {},
   "outputs": [],
   "source": [
    "# Your path\n",
    "scores_dax = pd.read_csv()\n",
    "scores_dax"
   ]
  },
  {
   "cell_type": "code",
   "execution_count": null,
   "metadata": {},
   "outputs": [],
   "source": [
    "scraper = SECScraper()\n",
    "model = ScoringModel()"
   ]
  },
  {
   "cell_type": "code",
   "execution_count": null,
   "metadata": {},
   "outputs": [],
   "source": [
    "limit = False"
   ]
  },
  {
   "cell_type": "markdown",
   "metadata": {},
   "source": [
    "## Select Tickers"
   ]
  },
  {
   "cell_type": "code",
   "execution_count": null,
   "metadata": {},
   "outputs": [],
   "source": [
    "not_analyzed = filings_dax[~filings_dax[\"isin_years\"].isin(scores_dax[\"isin_years\"].tolist())]\n",
    "not_analyzed_tickers = list(not_analyzed[\"isin\"].unique())"
   ]
  },
  {
   "cell_type": "code",
   "execution_count": null,
   "metadata": {},
   "outputs": [],
   "source": [
    "isins = not_analyzed_tickers[:1]\n",
    "isin"
   ]
  },
  {
   "cell_type": "markdown",
   "metadata": {},
   "source": [
    "## Run Analysis"
   ]
  },
  {
   "cell_type": "code",
   "execution_count": null,
   "metadata": {},
   "outputs": [],
   "source": [
    "session_scores = []\n",
    "\n",
    "for _, row in tqdm(\n",
    "        filings_dax.query(\"isin==@isin\").iterrows(), ncols=60, desc=ticker\n",
    "    ):\n",
    "    path = row[\"path\"]\n",
    "    isin = row[\"isin\"]\n",
    "    year = row[\"year\"]\n",
    "    isin_years = row[\"isin_years\"]\n",
    "\n",
    "    extractor = TextExtractor(path)\n",
    "    sentences = extractor.get_scentences_dax()\n",
    "    text_hash = extractor.create_hash(sentences)\n",
    "\n",
    "    sample_sentences = sentences\n",
    "\n",
    "    if limit:\n",
    "        sample_sentences = sentences[:50]\n",
    "\n",
    "    report_scores = model.calculate_report_scores(sample_sentences)\n",
    "    report_scores.update(\n",
    "        {\n",
    "            \"isin\": isin,\n",
    "            \"year\": year,\n",
    "            \"isin_years\": isin_years\n",
    "            \"analysis_timestamp\": datetime.now(),\n",
    "            \"text_hash\": text_hash,\n",
    "        }\n",
    "    )\n",
    "    session_scores.append(report_scores)"
   ]
  },
  {
   "cell_type": "code",
   "execution_count": null,
   "metadata": {},
   "outputs": [],
   "source": [
    "session_output = pd.DataFrame(session_scores)\n",
    "prev_dax_scores = pd.read_csv()"
   ]
  },
  {
   "cell_type": "code",
   "execution_count": null,
   "metadata": {},
   "outputs": [],
   "source": [
    "new_dax_scores = pd.concat([prev_dax_scores, session_output])"
   ]
  },
  {
   "cell_type": "code",
   "execution_count": null,
   "metadata": {},
   "outputs": [],
   "source": [
    "new_dax_scores = new_dax_scores.sort_values(by=[\"ticker\", \"year\"]).reset_index(drop=True)\n",
    "new_dax_scores"
   ]
  },
  {
   "cell_type": "markdown",
   "metadata": {},
   "source": [
    "## Store Output"
   ]
  },
  {
   "cell_type": "code",
   "execution_count": null,
   "metadata": {},
   "outputs": [],
   "source": [
    "#Your path\n",
    "new_dax_scores.to_csv()"
   ]
  }
 ],
 "metadata": {
  "kernelspec": {
   "display_name": "esg-investment-returns",
   "language": "python",
   "name": "esg-investment-returns"
  },
  "language_info": {
   "codemirror_mode": {
    "name": "ipython",
    "version": 3
   },
   "file_extension": ".py",
   "mimetype": "text/x-python",
   "name": "python",
   "nbconvert_exporter": "python",
   "pygments_lexer": "ipython3",
   "version": "3.11.1"
  }
 },
 "nbformat": 4,
 "nbformat_minor": 2
}
